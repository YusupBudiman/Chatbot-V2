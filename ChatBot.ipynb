{
  "cells": [
    {
      "cell_type": "markdown",
      "metadata": {
        "id": "view-in-github",
        "colab_type": "text"
      },
      "source": [
        "<a href=\"https://colab.research.google.com/github/YusupBudiman/Chatbot-V2/blob/main/ChatBot.ipynb\" target=\"_parent\"><img src=\"https://colab.research.google.com/assets/colab-badge.svg\" alt=\"Open In Colab\"/></a>"
      ]
    },
    {
      "cell_type": "code",
      "execution_count": null,
      "metadata": {
        "colab": {
          "base_uri": "https://localhost:8080/"
        },
        "id": "tAVSRjFybawt",
        "outputId": "04a13839-a318-42de-b492-8625314ce38a"
      },
      "outputs": [
        {
          "output_type": "stream",
          "name": "stdout",
          "text": [
            "Looking in indexes: https://pypi.org/simple, https://us-python.pkg.dev/colab-wheels/public/simple/\n",
            "Requirement already satisfied: nltk in /usr/local/lib/python3.7/dist-packages (3.7)\n",
            "Requirement already satisfied: click in /usr/local/lib/python3.7/dist-packages (from nltk) (7.1.2)\n",
            "Requirement already satisfied: regex>=2021.8.3 in /usr/local/lib/python3.7/dist-packages (from nltk) (2022.6.2)\n",
            "Requirement already satisfied: joblib in /usr/local/lib/python3.7/dist-packages (from nltk) (1.2.0)\n",
            "Requirement already satisfied: tqdm in /usr/local/lib/python3.7/dist-packages (from nltk) (4.64.1)\n"
          ]
        }
      ],
      "source": [
        "pip install nltk"
      ]
    },
    {
      "cell_type": "code",
      "source": [
        "pip install gtts"
      ],
      "metadata": {
        "colab": {
          "base_uri": "https://localhost:8080/"
        },
        "id": "i8R7FJ-BqPT5",
        "outputId": "33a4350e-cd1c-4128-f55b-848236516e85"
      },
      "execution_count": null,
      "outputs": [
        {
          "output_type": "stream",
          "name": "stdout",
          "text": [
            "Looking in indexes: https://pypi.org/simple, https://us-python.pkg.dev/colab-wheels/public/simple/\n",
            "Collecting gtts\n",
            "  Downloading gTTS-2.2.4-py3-none-any.whl (26 kB)\n",
            "Requirement already satisfied: requests in /usr/local/lib/python3.7/dist-packages (from gtts) (2.23.0)\n",
            "Requirement already satisfied: click in /usr/local/lib/python3.7/dist-packages (from gtts) (7.1.2)\n",
            "Requirement already satisfied: six in /usr/local/lib/python3.7/dist-packages (from gtts) (1.15.0)\n",
            "Requirement already satisfied: chardet<4,>=3.0.2 in /usr/local/lib/python3.7/dist-packages (from requests->gtts) (3.0.4)\n",
            "Requirement already satisfied: urllib3!=1.25.0,!=1.25.1,<1.26,>=1.21.1 in /usr/local/lib/python3.7/dist-packages (from requests->gtts) (1.24.3)\n",
            "Requirement already satisfied: certifi>=2017.4.17 in /usr/local/lib/python3.7/dist-packages (from requests->gtts) (2022.9.24)\n",
            "Requirement already satisfied: idna<3,>=2.5 in /usr/local/lib/python3.7/dist-packages (from requests->gtts) (2.10)\n",
            "Installing collected packages: gtts\n",
            "Successfully installed gtts-2.2.4\n"
          ]
        }
      ]
    },
    {
      "cell_type": "code",
      "execution_count": null,
      "metadata": {
        "colab": {
          "base_uri": "https://localhost:8080/"
        },
        "id": "uwOco24BAppd",
        "outputId": "46a04271-e559-4ab0-9be4-61ecaacd4314"
      },
      "outputs": [
        {
          "output_type": "stream",
          "name": "stdout",
          "text": [
            "Collecting newspaper3k\n",
            "  Downloading newspaper3k-0.2.8-py3-none-any.whl (211 kB)\n",
            "\u001b[?25l\r\u001b[K     |█▌                              | 10 kB 17.1 MB/s eta 0:00:01\r\u001b[K     |███                             | 20 kB 22.9 MB/s eta 0:00:01\r\u001b[K     |████▋                           | 30 kB 26.8 MB/s eta 0:00:01\r\u001b[K     |██████▏                         | 40 kB 20.7 MB/s eta 0:00:01\r\u001b[K     |███████▊                        | 51 kB 10.2 MB/s eta 0:00:01\r\u001b[K     |█████████▎                      | 61 kB 11.9 MB/s eta 0:00:01\r\u001b[K     |██████████▉                     | 71 kB 9.6 MB/s eta 0:00:01\r\u001b[K     |████████████▍                   | 81 kB 10.4 MB/s eta 0:00:01\r\u001b[K     |██████████████                  | 92 kB 11.5 MB/s eta 0:00:01\r\u001b[K     |███████████████▌                | 102 kB 10.2 MB/s eta 0:00:01\r\u001b[K     |█████████████████               | 112 kB 10.2 MB/s eta 0:00:01\r\u001b[K     |██████████████████▋             | 122 kB 10.2 MB/s eta 0:00:01\r\u001b[K     |████████████████████▏           | 133 kB 10.2 MB/s eta 0:00:01\r\u001b[K     |█████████████████████▊          | 143 kB 10.2 MB/s eta 0:00:01\r\u001b[K     |███████████████████████▎        | 153 kB 10.2 MB/s eta 0:00:01\r\u001b[K     |████████████████████████▉       | 163 kB 10.2 MB/s eta 0:00:01\r\u001b[K     |██████████████████████████▍     | 174 kB 10.2 MB/s eta 0:00:01\r\u001b[K     |████████████████████████████    | 184 kB 10.2 MB/s eta 0:00:01\r\u001b[K     |█████████████████████████████▌  | 194 kB 10.2 MB/s eta 0:00:01\r\u001b[K     |███████████████████████████████ | 204 kB 10.2 MB/s eta 0:00:01\r\u001b[K     |████████████████████████████████| 211 kB 10.2 MB/s \n",
            "\u001b[?25hCollecting cssselect>=0.9.2\n",
            "  Downloading cssselect-1.1.0-py2.py3-none-any.whl (16 kB)\n",
            "Collecting jieba3k>=0.35.1\n",
            "  Downloading jieba3k-0.35.1.zip (7.4 MB)\n",
            "\u001b[K     |████████████████████████████████| 7.4 MB 49.7 MB/s \n",
            "\u001b[?25hCollecting tldextract>=2.0.1\n",
            "  Downloading tldextract-3.2.1-py3-none-any.whl (87 kB)\n",
            "\u001b[K     |████████████████████████████████| 87 kB 5.7 MB/s \n",
            "\u001b[?25hRequirement already satisfied: requests>=2.10.0 in /usr/local/lib/python3.7/dist-packages (from newspaper3k) (2.23.0)\n",
            "Requirement already satisfied: PyYAML>=3.11 in /usr/local/lib/python3.7/dist-packages (from newspaper3k) (3.13)\n",
            "Collecting tinysegmenter==0.3\n",
            "  Downloading tinysegmenter-0.3.tar.gz (16 kB)\n",
            "Requirement already satisfied: Pillow>=3.3.0 in /usr/local/lib/python3.7/dist-packages (from newspaper3k) (7.1.2)\n",
            "Requirement already satisfied: python-dateutil>=2.5.3 in /usr/local/lib/python3.7/dist-packages (from newspaper3k) (2.8.2)\n",
            "Requirement already satisfied: nltk>=3.2.1 in /usr/local/lib/python3.7/dist-packages (from newspaper3k) (3.2.5)\n",
            "Collecting feedparser>=5.2.1\n",
            "  Downloading feedparser-6.0.8-py3-none-any.whl (81 kB)\n",
            "\u001b[K     |████████████████████████████████| 81 kB 9.3 MB/s \n",
            "\u001b[?25hRequirement already satisfied: lxml>=3.6.0 in /usr/local/lib/python3.7/dist-packages (from newspaper3k) (4.2.6)\n",
            "Requirement already satisfied: beautifulsoup4>=4.4.1 in /usr/local/lib/python3.7/dist-packages (from newspaper3k) (4.6.3)\n",
            "Collecting feedfinder2>=0.0.4\n",
            "  Downloading feedfinder2-0.0.4.tar.gz (3.3 kB)\n",
            "Requirement already satisfied: six in /usr/local/lib/python3.7/dist-packages (from feedfinder2>=0.0.4->newspaper3k) (1.15.0)\n",
            "Collecting sgmllib3k\n",
            "  Downloading sgmllib3k-1.0.0.tar.gz (5.8 kB)\n",
            "Requirement already satisfied: idna<3,>=2.5 in /usr/local/lib/python3.7/dist-packages (from requests>=2.10.0->newspaper3k) (2.10)\n",
            "Requirement already satisfied: chardet<4,>=3.0.2 in /usr/local/lib/python3.7/dist-packages (from requests>=2.10.0->newspaper3k) (3.0.4)\n",
            "Requirement already satisfied: urllib3!=1.25.0,!=1.25.1,<1.26,>=1.21.1 in /usr/local/lib/python3.7/dist-packages (from requests>=2.10.0->newspaper3k) (1.24.3)\n",
            "Requirement already satisfied: certifi>=2017.4.17 in /usr/local/lib/python3.7/dist-packages (from requests>=2.10.0->newspaper3k) (2021.10.8)\n",
            "Requirement already satisfied: filelock>=3.0.8 in /usr/local/lib/python3.7/dist-packages (from tldextract>=2.0.1->newspaper3k) (3.6.0)\n",
            "Collecting requests-file>=1.4\n",
            "  Downloading requests_file-1.5.1-py2.py3-none-any.whl (3.7 kB)\n",
            "Building wheels for collected packages: tinysegmenter, feedfinder2, jieba3k, sgmllib3k\n",
            "  Building wheel for tinysegmenter (setup.py) ... \u001b[?25l\u001b[?25hdone\n",
            "  Created wheel for tinysegmenter: filename=tinysegmenter-0.3-py3-none-any.whl size=13553 sha256=d385b72defff32eea120838cd79f7ce9b2d58bdad77f85b729ecf19b910e87bb\n",
            "  Stored in directory: /root/.cache/pip/wheels/df/67/41/faca10fa501ca010be41b49d40360c2959e1c4f09bcbfa37fa\n",
            "  Building wheel for feedfinder2 (setup.py) ... \u001b[?25l\u001b[?25hdone\n",
            "  Created wheel for feedfinder2: filename=feedfinder2-0.0.4-py3-none-any.whl size=3357 sha256=1fda6e0b6fc5f60bf6ca3c27b4638a450f0da01610e61cca467d5d3f82212e72\n",
            "  Stored in directory: /root/.cache/pip/wheels/7f/d4/8f/6e2ca54744c9d7292d88ddb8d42876bcdab5e6d84a21c10346\n",
            "  Building wheel for jieba3k (setup.py) ... \u001b[?25l\u001b[?25hdone\n",
            "  Created wheel for jieba3k: filename=jieba3k-0.35.1-py3-none-any.whl size=7398404 sha256=54788ed08b43ae4c6f3ccf8b7a308b55f510e31a620c13e30cfaf4840ba5eac4\n",
            "  Stored in directory: /root/.cache/pip/wheels/4c/91/46/3c208287b726df325a5979574324878b679116e4baae1af3c3\n",
            "  Building wheel for sgmllib3k (setup.py) ... \u001b[?25l\u001b[?25hdone\n",
            "  Created wheel for sgmllib3k: filename=sgmllib3k-1.0.0-py3-none-any.whl size=6066 sha256=f20dff10a0e8af6b4759540bdddef79b074c6096e05d9278d5993661aa79a259\n",
            "  Stored in directory: /root/.cache/pip/wheels/73/ad/a4/0dff4a6ef231fc0dfa12ffbac2a36cebfdddfe059f50e019aa\n",
            "Successfully built tinysegmenter feedfinder2 jieba3k sgmllib3k\n",
            "Installing collected packages: sgmllib3k, requests-file, tldextract, tinysegmenter, jieba3k, feedparser, feedfinder2, cssselect, newspaper3k\n",
            "Successfully installed cssselect-1.1.0 feedfinder2-0.0.4 feedparser-6.0.8 jieba3k-0.35.1 newspaper3k-0.2.8 requests-file-1.5.1 sgmllib3k-1.0.0 tinysegmenter-0.3 tldextract-3.2.1\n"
          ]
        }
      ],
      "source": [
        "pip install newspaper3k"
      ]
    },
    {
      "cell_type": "code",
      "execution_count": null,
      "metadata": {
        "id": "gTMHqaBVA2eb"
      },
      "outputs": [],
      "source": [
        "# Import library\n",
        "from newspaper import Article\n",
        "import random\n",
        "import nltk\n",
        "import string\n",
        "from sklearn.feature_extraction.text import CountVectorizer\n",
        "from sklearn.metrics.pairwise import cosine_similarity\n",
        "import numpy as np\n",
        "import pandas as pd\n",
        "import warnings\n",
        "import re\n",
        "warnings.filterwarnings('ignore')\n",
        "\n",
        "from gtts import gTTS\n",
        "import IPython.display as ipd\n",
        "import time\n",
        "from io import BytesIO"
      ]
    },
    {
      "cell_type": "code",
      "execution_count": null,
      "metadata": {
        "id": "XKaeg4orCHJq",
        "colab": {
          "base_uri": "https://localhost:8080/"
        },
        "outputId": "ea12e220-dffc-4e94-83e5-42fdf6668e86"
      },
      "outputs": [
        {
          "output_type": "execute_result",
          "data": {
            "text/plain": [
              "True"
            ]
          },
          "metadata": {},
          "execution_count": 5
        }
      ],
      "source": [
        "#download punkt package\n",
        "nltk.download('punkt',quiet=True)"
      ]
    },
    {
      "cell_type": "code",
      "execution_count": null,
      "metadata": {
        "id": "W_WA4-yzCoXb"
      },
      "outputs": [],
      "source": [
        "#Get article\n",
        "komunikasi = 'maaf kita temenan aja. aku udah muak sama kamu. kamu terlalu baik buat aku. percuma kalo sebelah pihak yang suka '\n",
        "\n",
        "article = Article('https://nationallasikcenter.id/bagian-mata/')\n",
        "article.download()\n",
        "article.parse()\n",
        "article.nlp()\n",
        "\n",
        "article2 = Article('https://doktersehat.com/informasi/macam-macam-gangguan-kesehatan-mata/')\n",
        "article2.download()\n",
        "article2.parse()\n",
        "article2.nlp()\n",
        "\n",
        "\n",
        "\"\"\"sample english version\n",
        "\n",
        "article3 = Article('https://www.nei.nih.gov/sites/default/files/nehep-pdfs/GAM2012_Eye_Diagram_Handout.pdf')\n",
        "article3.download()\n",
        "article3.parse()\n",
        "article3.nlp()\n",
        "\n",
        "article4 = Article('https://www.webmd.com/eye-health/common-eye-problems')\n",
        "article4.download()\n",
        "article4.parse()\n",
        "article4.nlp()\"\"\"\n",
        "\n",
        "corpus = komunikasi + article.text + article2.text\n"
      ]
    },
    {
      "cell_type": "code",
      "execution_count": null,
      "metadata": {
        "id": "tDSQ3fZuINwn",
        "colab": {
          "base_uri": "https://localhost:8080/"
        },
        "outputId": "ee9af22b-199a-4b11-86b6-fb9c35997d2b"
      },
      "outputs": [
        {
          "output_type": "stream",
          "name": "stdout",
          "text": [
            "maaf kita temenan aja. aku udah muak sama kamu. kamu terlalu baik buat aku. percuma kalo sebelah pihak yang suka Mata merupakan salah satu organ yang sangat kompleks. Meskipun sepintas hanya terlihat bola mata hitam dikelilingi cairan putih, faktanya ia sangat detail dan menakjubkan. Melalui tulisan singkat ini, kita akan mengenal bagian mata dan fungsinya.\n",
            "\n",
            "Kita bisa menikmati indahnya dunia dengan mata. Kita bisa melihat wajah orang-orang yang kita cintai juga dengan mata. Bahkan, kita bisa membaca juga dengan mata. Itu semua tak lepas dari bagian-bagian mata yang masing-masingnya memiliki fungsi luar biasa. Yuk, kita simak bersama.\n",
            "\n",
            "Organ mata manusia bisa diklasifikasikan menjadi dua. Pertama, organ bagian luar. Terdiri dari kelopak mata, alis, dan bulu mata. Organ bagian luar ini banyak berfungsi proteksi untuk melindungi mata.\n",
            "\n",
            "Kedua, organ bagian dalam. Mulai dari kornea hingga lensa mata. Bagian mata inilah berfungsi untuk ‘mengolah’ cahaya sampai menjadi penglihatan. Berikut ini 12 organ dalam mata yang berperan penting dalam mekanisme penglihatan.\n",
            "\n",
            "Kornea\n",
            "\n",
            "Kornea adalah jaringan transparan yang terletak di lapisan terluar. Ia merupakan organ refraksi kuat yang membelokkan sinar masuk ke dalam mata. Kornea memiliki kekuatan dioptri terbesar yaitu 42.25 D. Ini merupakan 74% dari seluruh kekuatan dioptri mata.\n",
            "\n",
            "Karenanya, kornea berfungsi sebagai tempat masuknya cahaya pertama kali, sebelum cahaya itu bisa masuk ke sel-sel penerima di bagian dalam mata.\n",
            "\n",
            "Jika kita lihat mata seseorang, akan tampak bagian bola hitam (pupil) dan bagian yang terlihat berwarna abu-abu, cokelat, atau biru (iris). Warna iris tergantung faktor genetik seseorang. Nah, kornea ini hanya menutupi bagian pupil dan iris tersebut.\n",
            "\n",
            "Secara makroskopis, area di pinggir kornea adalah limbus. Sedangkan secara mikroskopis, lapisan histologis kornea dapat dibagi menjadi lima lapisan yaitu lapisan epitel, lapisan Bowman, lapisan stroma, lapisan membran Descemet, dan lapisan endotel.\n",
            "\n",
            "Kornea berfungsi menangkap cahaya untuk diteruskan pada retina yang berada di belakang mata. Pada mata yang normal, cahaya sejajar yang berasal dari obyek akan difokuskan pada satu titik fokus tepat di retina. Jika titik fokusnya jatuh di depan retina, terjadilah rabun jauh (miopia). Sebaliknya, jika titik fokusnya jatuh di belakang retina, terjadilah rabun dekat (hipermetropi). Sedangkan jika titik fokusnya menyebar, terjadilah mata silinder (astigmatisme).\n",
            "\n",
            "Ketiganya –miopia, hipermetropi, astigmatisme– merupakan kelainan refraksi yang bisa dikoreksi dengan kacamata atau lensa kontak. Namun untuk koreksi permanen sehingga terbebas dari kacamata atau lensa kontak, solusinya adalah LASIK.\n",
            "\n",
            "Pupil\n",
            "\n",
            "Pupil adalah bagian lingkaran hitam pada bola mata. Fungsi pupil adalah tempat masuknya cahaya ke dalam mata sekaligus mengatur cahaya yang masuk.\n",
            "\n",
            "Ketika terdapat banyak cahaya, secara otomatis pupil akan mengecil sehingga cahaya yang masuk ke dalam mata tidak terlalu banyak. Sebaliknya, ketika cahaya redup atau kurang, pupil akan membesar sehingga cahaya yang masuk ke dalam mata semakin banyak.\n",
            "\n",
            "Iris\n",
            "\n",
            "Iris adalah bagian berwarna yang berada di sekitar pupil. Warnanya bisa abu-abu, cokelat, atau biru tergantung faktor genetik seseorang. Iris berfungsi mengatur banyaknya cahaya yang diteruskan ke mata. Caranya adalah dengan mengubah apertura pupil.\n",
            "\n",
            "Pergerakan iris mengakibatkan berubahnya ukuran pupil. Saat midriasis (pembesaran pupil), iris tampak mengandung banyak rigi dan lipatan. Sedangkan saat miosis (penyempitan pupil), permukaan anterior iris relatif lebih rata.\n",
            "\n",
            "Secara histologis, iris memiliki tiga lapisan yaitu lamina anterior, stroma iris, dan lamina posterior.\n",
            "\n",
            "Koroid\n",
            "\n",
            "Koroid adalah dinding mata yang berfungsi mensuplai oksigen dan nutrisi untuk bagian-bagian mata yang lain, khususnya retina. Bagian mata ini biasanya berwarna hitam atau cokelat kehitaman. Warna gelap ini membuat cahaya tidak dipantulkan kembali.\n",
            "\n",
            "Retina\n",
            "\n",
            "Retina adalah lembaran transparan tipis di bagian belakang bola mata yang sensitif terhadap cahaya. Ia bertanggung jawab terhadap kemampuan manusia dalam melihat. Fungsinya adalah menangkap bayangan benda. Ketika bagian mata ini rusak atau terkena penyakit, manusia tidak bisa melihat dengan optimal. Bahkan penyakit retina yang kronis dapat menyebabkan kebutaan.\n",
            "\n",
            "Makula\n",
            "\n",
            "Makula merupakan bagian yang terdapat di tengah retina yang berwarna kuning cerah. Bagian mata ini sangat berperan dalam penglihatan kita sehingga bisa melihat objek dengan baik.\n",
            "\n",
            "Sklera\n",
            "\n",
            "Sklera berasal dari bahasa Yunani yaitu scleros. Artinya “keras.” Ia adalah bagian dinding putih mata. Pembungkus luar bola mata yang opak, kuat tapi elastis, melapisi mata mulai dari kornea sampai saraf optik.\n",
            "\n",
            "Fungsi sklera adalah:\n",
            "\n",
            "Memberikan perlindungan terhadap isi bola mata Membantu mempertahankan bentuk mata Menstabilkan tekanan intraokular Sebagai tempat insersi otot bola mata\n",
            "\n",
            "Lensa Mata\n",
            "\n",
            "Lensa mata (lensa kristalin) adalah bagian lunak dan transparan yang berada di belakang iris. Lensa mata berfungsi untuk memfokuskan cahaya yang masuk ke mata agar sampai ke makula. Uniknya, lensa mata punya kemampuan yang disebut sebagai daya akomodasi.\n",
            "\n",
            "Ketika lensa mata keruh, pandangan menjadi tidak jelas (kabur). Kekeruhan pada lensa inilah yang dikenal sebagai katarak. Ia tidak bisa dikoreksi dengan kacamata atau lensa kontak sebagaimana kelainan refraksi. Cara yang bisa digunakan adalah dengan mengganti lensa melalui prosedur operasi katarak.\n",
            "\n",
            "Saraf Optik\n",
            "\n",
            "Saraf optik atau disebut juga saraf kranial II berfungsi untuk meneruskan informasi visual benda yang diterima retina menuju ke otak.\n",
            "\n",
            "Saraf optik ini lah yang membuat kita dapat mengetahui bagaimana bentuk suatu benda yang kita lihat. Jika bagian mata ini rusak, maka kita tidak akan bisa melihat.\n",
            "\n",
            "Titik Buta\n",
            "\n",
            "Titik buta adalah bagian mata yang berfungsi untuk meneruskan dan membelokkan berkas saraf menuju otak. Di bagian mata ini, tidak ada sel-sel yang peka terhadap rangsangan cahaya. Dengan demikian, ketika ada bayangan benda yang jatuh ke titik ini, kita tidak akan bisa melihatnya.\n",
            "\n",
            "Badan Siliaris\n",
            "\n",
            "Badan siliaris terbuat dari otot siliaris dan ligamen suspensor. Badan siliaris berfungsi untuk menjaga agar lensa tetap pada tempatnya, mengubah bentuk lensa sehingga cahaya dapat difokuskan pada retina, dan untuk menghasilkan humor akuos (cairan yang menyebabkan mata dapat mempertahankan bentuknya).\n",
            "\n",
            "Badan Vitreus\n",
            "\n",
            "Badan vitreus adalah media optim gelatinosa avaskular dan jernih yang mengisi rongga vitreus. Rongga ini menempati 4/5 total voulme bola mata.\n",
            "\n",
            "Vitreus berfungsi dalam mempertahankan integritas struktural bola mata, memberi nutrisi, serta dalam metabolisme jaringan instaokular karena cairan ini menjadi jalur untuk metabolit yang digunakan oleh lensa, badan siliar, dan retina. []\n",
            "\n",
            "Referensi:\n",
            "\n",
            "American Academy of Ophtalmology. Clinical Optics; 2017-2018 Basic and Clinical Science Course. San Fransisco: American Academy of Ophtalmology; 2018\n",
            "\n",
            "Vaugan DG, Asbury T, Eva PR. General Ophthalmology. 17th edition. Connecticut; Apelton & Lange; 2019\n",
            "\n",
            "Universitas Indonesia Faculty of Medicine. Buku Ajar Oftalmologi. Jakarta: UI Publishing; 2020DokterSehat.Com- Ada bermacam-macam penyakit mata. Seperti yang kita rasakan, mata adalah organ vital kita untuk melihat dan beraktivitas. Oleh karena itu, jangan sampai gangguan mata menghambat aktivitas Anda!\n",
            "\n",
            "Pada artikel kali ini, DokterSehat akan menjelaskan mengenai gangguan pada mata hingga penyakit gangguan penglihatan. Apa tujuannya? Tentu ini dibutuhkan agar Anda bisa terhindar dan bahkan mengobati penyakit mata yang sudah terlanjur terjadi.\n",
            "\n",
            "Macam-macam gangguan mata\n",
            "\n",
            "Ada beragam penyakit mata yang harus Anda ketahui, mulai dari penyebabnya hingga penanganannya. Berikut rincian penyakit mata:\n",
            "\n",
            "1. Ablasio\n",
            "\n",
            "Penyakit ablasio adalah suatu keadaan lepasnya retina sensoris dari epitel pigmen retina (RIDE). Sebagian besar ablasio retina terjadi akibat adanya satu atau lebih robekan-robekan atau lubang-lubang di retina, dikenal sebagai ablasio retina regmatogen (Rhegmatogenous Retinal Detachment) yang menyebabkan gangguan mata.\n",
            "\n",
            "Gejala penyakit mata ablasio yang sering dikeluhkan biasanya benda akan terlihat melayang-layang, adanya kilatan cahaya, penurunan tajam penglihatan dan ada semacam tirai tipis berbentuk parabola yang naik perlahan-lahan dari mulai bagian bawah bola mata dan akhirnya menutup.\n",
            "\n",
            "2. Bufthalmus\n",
            "\n",
            "Penyakit ini tergolong penyakit mata dengan tekanan bola mata yang meninggi sejak lahir, akibat tekanan bola mata yang meninggi, ukuran bola mata bayi sangat besar. Keadaan ini mengganggu kornea mata.\n",
            "\n",
            "Penderita takut melihat cahaya, timbul gangguan kelopak mata, kornea membengkak, dan warna kornea menjadi keruh. Segera lakukan upaya untuk mengurangi bendungan cairan bola mata yang membuat tekanan bola mata yang meninggi.\n",
            "\n",
            "Caranya mengatasi gangguan pada mata ini yaitu melalui operasi sayatan (goniotomy) sesegera mungkin agar perkembangan mata dan ketajaman penglihatan anak tidak sampai terganggu.\n",
            "\n",
            "3. Blefaritis\n",
            "\n",
            "Blefaritis adalah suatu peradangan pada kelopak mata karena terjadinya produksi minyak yang berlebihan, tidak diketahui persis mengapa produksi minyak bisa menjadi berlebihan.\n",
            "\n",
            "Sayangnya kelebihan minyak ini ada di dekat kelopak mata yang juga sering didatangi bakteri, gejala blefaritis berupa mata merah, nyeri, panas, gatal, berair, ada luka di bagian kelopak mata dan membengkak. Pada beberapa kasus sampai terjadi kerontokan bulu mata.\n",
            "\n",
            "Ada dua jenis blefaritis yaitu blefaritis anterior dan blefaritis posterior, yang pertama merupakan peradangan di kelopak mata bagian luar depan yaitu di tempat melekatnya bulu mata.\n",
            "\n",
            "Penyebabnya adalah bakteri stafilokokus. Yang kedua adalah peradangan di kelopak mata bagian dalam, yaitu bagian kelopak mata yang bersentuhan dengan mata. Penyebabnya adalah kelainan pada kelenjar minyak.\n",
            "\n",
            "4. Dakriosistitis\n",
            "\n",
            "Penyebab dakriosistitis adalah penyumbatan yang terjadi pada duktus nasolakrimalis yaitu saluran yang mengalirkan air mata ke hidung, faktor alergilah yang menyebabkan terjadinya sumbatan pada saluran tersebut.\n",
            "\n",
            "Akibatnya dari gangguan mata dakriosistitis adalah infeksi di sekitar kantung air mata yang menimbulkan nyeri, warna merah dan bengkak, bahkan bisa sampai mengeluarkan nanah dan penderita mengalami demam.\n",
            "\n",
            "Infeksi yang ringan biasanya akan cepat sembuh walau tetap ada pembengkakan, sementara yang tergolong parah dapat menyebabkan kemerahan dan penebalan di atas kantung air mata. Jika terus berlanjut akan terbentuk kantung nanah.\n",
            "\n",
            "5. Endoftalmitis\n",
            "\n",
            "Endoflatmitis merupakan gangguan padas mata yang berupa infeksi di lapisan bagian dalam mata, sehingga bola mata bernanah. Gejalanya berupa mata merah, nyeri, bahkan sampai mengalami gangguan penglihatan.\n",
            "\n",
            "Penyakit gangguan penglihatan yang satu ini biasanya terjadi karena mata anak tertusuk sesuatu seperti lidi atau benda tajam lainnya. Infeksi ini cukup berat, sehingga harus segera ditangani karena bisa menimbulkan kebutaan.\n",
            "\n",
            "6. Glaukoma\n",
            "\n",
            "Glaukoma ditandai dengan pandangan yang mulai kabur dan berkurangnya pandangan ke samping (lebar penglihatan berkurang). Sebelum terjadi kerusakan pada retina dan saraf mata, maka masih ada kesempatan untuk kembali membaik. Jika tidak ditangani dengan baik, gangguan pada mata ini dapat menyebabkan kebutaan.\n",
            "\n",
            "Hal ini disebabkan karena saluran cairan yang keluar dari bola mata terhambat sehingga bola mata akan membesar dan bola mata akan menekan saraf mata yang berada di belakang bola mata yang akhirnya saraf mata tidak mendapatkan aliran darah sehingga saraf mata akan mati.\n",
            "\n",
            "7. Gonoblenorrhoe\n",
            "\n",
            "Gangguan mata yang satu ini adalah salah satu penyakit mata yang terjadi pada bayi yang baru lahir karena ibunya menderita gonorrhoe. Gonorrhoe juga dapat menyerang orang dewasa secara aut infeksi melalui tangan atau handuk.\n",
            "\n",
            "Gejalanya gonoblenorrhoe adalah mata bayi bengkak, bernanah, dan tidak dapat membuka. Jika tak langsung ditangani, dalam waktu 3 minggu bola mata akan pecah dan menyebabkan buta permanen.\n",
            "\n",
            "8. Gangguan lensa mata\n",
            "\n",
            "Penyakit gangguan penglihatan lainnya adalah gangguan lensa mata. Penyakit yang menyerang gangguan penglihatan ini ada beragam jenis, di antaranya:\n",
            "\n",
            "Miopi (tidak dapat melihat dengan jelas objek yang berada jauh),\n",
            "\n",
            "Hiperopi (tidak dapat melihat dengan jelas objek yang berada dalam jarak dekat),\n",
            "\n",
            "Presbiopi (kelainan fisik pada lensa mata yang menyebabkan kesulitan melihat dalam jarak dekat),\n",
            "\n",
            "Astigmatisma (penglihatan kabur baik dalam jarak jauh maupun dalam jarak dekat),\n",
            "\n",
            "Amblyopia (pusat penglihatan pada salah satu mata tidak berkembang baik),\n",
            "\n",
            "Strabismus (mata juling),\n",
            "\n",
            "Silindris (fokus benda yang dilihat terpecah menjadi dua bayangan)\n",
            "\n",
            "9. Iridosiklitis\n",
            "\n",
            "Penyebab iridosiklitis berasal dari gigi yang berlubang. Pada awalnya, penyakit gangguan penglihatan ini ditandai dengan mata merah, namun tanpa kotoran. Oleh karena itu, banyak yang menyepelekan gangguan mata ini.\n",
            "\n",
            "Selanjutnya, disertai juga dengan nyeri dan penglihatan agak terganggu karena ada bintik-bintik hitam yang beterbangan. Banyak yang menganggap penyakit ini biasa dan hanya diobati dengan obat-obat yang dijual bebas.\n",
            "\n",
            "10. Infeksi mata\n",
            "\n",
            "Infeksi mata banyak jenisnya, paling sering infeksi pada selaput lendir putih mata dan kelopak mata (conjunctivitis) atau dikenal sebagai penyakit mata merah. Ada juga yang disebut Belekan, yaitu disebabkan oleh infeksi virus, terkadang disertai infeksi bakteri.\n",
            "\n",
            "Penyakit mata ini membuat mata menjadi merah, bengkak, dan nyeri serta memproduksi kotoran mata menjadi banyak. Gejala belekan biasanya membuat bulu mata saling menempel dan sulit dibuka pada waktu bangun tidur karena terlalu banyak kotoran yang lengket di bulu mata.\n",
            "\n",
            "Gangguan mata yang satu ini biasa menyerang anak-anak dan sangat menular, penyakit infeksi lainnya yaitu Bintitan yang disebabkan karena adanya infeksi bakteri pada kelenjar di dasar bulu mata dan termasuk penyakit mata ringan. Umumnya akan menghilang dengan sendirinya dalam waktu satu minggu setelah nanah keluar.\n",
            "\n",
            "11. Katarak\n",
            "\n",
            "Katarak adalah sejenis kerusakan mata atau gangguan mata yang menyebabkan lensa mata berselaput dan rabun, lensa mata menjadi keruh dan cahaya tidak dapat menembusinya, bervariasi sesuai tingkatannya dari sedikit sampai keburaman total dan menghalangi jalan cahaya.\n",
            "\n",
            "Penderita gangguan mata katarak akan mengalami pengelihatan yang buram, ketajaman pengelihatan berkurang, sensitivitas kontras juga hilang. Ini menyebabkan kontur, warna bayangan, dan visi kurang jelas karena cahaya tersebar oleh katarak ke mata.\n",
            "\n",
            "Tes sensitivitas kontras harus dilakukan dan jika kekurangan sensitivitas kontras terlihat makan dianjurkan untuk konsultasi dengan spesialis mata untuk memeriksakan gangguan mata yang tengah dialami.\n",
            "\n",
            "Itu dia penjelasan lengkap mengenai gangguan mata, penyakit mata, dan masing-masing penyebabnya. Semoga bermanfaat!\n"
          ]
        }
      ],
      "source": [
        "print(corpus)"
      ]
    },
    {
      "cell_type": "code",
      "execution_count": null,
      "metadata": {
        "id": "HJkRYCo8JG20"
      },
      "outputs": [],
      "source": [
        "#tokenization\n",
        "text = corpus\n",
        "#list sentence\n",
        "sentence_list = nltk.sent_tokenize(text) "
      ]
    },
    {
      "cell_type": "code",
      "execution_count": null,
      "metadata": {
        "id": "cCB7PfMXJesP",
        "colab": {
          "base_uri": "https://localhost:8080/"
        },
        "outputId": "9521b5ca-b53e-403a-e6ef-4cc982b2e902"
      },
      "outputs": [
        {
          "output_type": "stream",
          "name": "stdout",
          "text": [
            "['maaf kita temenan aja.', 'aku udah muak sama kamu.', 'kamu terlalu baik buat aku.', 'percuma kalo sebelah pihak yang suka Mata merupakan salah satu organ yang sangat kompleks.', 'Meskipun sepintas hanya terlihat bola mata hitam dikelilingi cairan putih, faktanya ia sangat detail dan menakjubkan.', 'Melalui tulisan singkat ini, kita akan mengenal bagian mata dan fungsinya.', 'Kita bisa menikmati indahnya dunia dengan mata.', 'Kita bisa melihat wajah orang-orang yang kita cintai juga dengan mata.', 'Bahkan, kita bisa membaca juga dengan mata.', 'Itu semua tak lepas dari bagian-bagian mata yang masing-masingnya memiliki fungsi luar biasa.', 'Yuk, kita simak bersama.', 'Organ mata manusia bisa diklasifikasikan menjadi dua.', 'Pertama, organ bagian luar.', 'Terdiri dari kelopak mata, alis, dan bulu mata.', 'Organ bagian luar ini banyak berfungsi proteksi untuk melindungi mata.', 'Kedua, organ bagian dalam.', 'Mulai dari kornea hingga lensa mata.', 'Bagian mata inilah berfungsi untuk ‘mengolah’ cahaya sampai menjadi penglihatan.', 'Berikut ini 12 organ dalam mata yang berperan penting dalam mekanisme penglihatan.', 'Kornea\\n\\nKornea adalah jaringan transparan yang terletak di lapisan terluar.', 'Ia merupakan organ refraksi kuat yang membelokkan sinar masuk ke dalam mata.', 'Kornea memiliki kekuatan dioptri terbesar yaitu 42.25 D. Ini merupakan 74% dari seluruh kekuatan dioptri mata.', 'Karenanya, kornea berfungsi sebagai tempat masuknya cahaya pertama kali, sebelum cahaya itu bisa masuk ke sel-sel penerima di bagian dalam mata.', 'Jika kita lihat mata seseorang, akan tampak bagian bola hitam (pupil) dan bagian yang terlihat berwarna abu-abu, cokelat, atau biru (iris).', 'Warna iris tergantung faktor genetik seseorang.', 'Nah, kornea ini hanya menutupi bagian pupil dan iris tersebut.', 'Secara makroskopis, area di pinggir kornea adalah limbus.', 'Sedangkan secara mikroskopis, lapisan histologis kornea dapat dibagi menjadi lima lapisan yaitu lapisan epitel, lapisan Bowman, lapisan stroma, lapisan membran Descemet, dan lapisan endotel.', 'Kornea berfungsi menangkap cahaya untuk diteruskan pada retina yang berada di belakang mata.', 'Pada mata yang normal, cahaya sejajar yang berasal dari obyek akan difokuskan pada satu titik fokus tepat di retina.', 'Jika titik fokusnya jatuh di depan retina, terjadilah rabun jauh (miopia).', 'Sebaliknya, jika titik fokusnya jatuh di belakang retina, terjadilah rabun dekat (hipermetropi).', 'Sedangkan jika titik fokusnya menyebar, terjadilah mata silinder (astigmatisme).', 'Ketiganya –miopia, hipermetropi, astigmatisme– merupakan kelainan refraksi yang bisa dikoreksi dengan kacamata atau lensa kontak.', 'Namun untuk koreksi permanen sehingga terbebas dari kacamata atau lensa kontak, solusinya adalah LASIK.', 'Pupil\\n\\nPupil adalah bagian lingkaran hitam pada bola mata.', 'Fungsi pupil adalah tempat masuknya cahaya ke dalam mata sekaligus mengatur cahaya yang masuk.', 'Ketika terdapat banyak cahaya, secara otomatis pupil akan mengecil sehingga cahaya yang masuk ke dalam mata tidak terlalu banyak.', 'Sebaliknya, ketika cahaya redup atau kurang, pupil akan membesar sehingga cahaya yang masuk ke dalam mata semakin banyak.', 'Iris\\n\\nIris adalah bagian berwarna yang berada di sekitar pupil.', 'Warnanya bisa abu-abu, cokelat, atau biru tergantung faktor genetik seseorang.', 'Iris berfungsi mengatur banyaknya cahaya yang diteruskan ke mata.', 'Caranya adalah dengan mengubah apertura pupil.', 'Pergerakan iris mengakibatkan berubahnya ukuran pupil.', 'Saat midriasis (pembesaran pupil), iris tampak mengandung banyak rigi dan lipatan.', 'Sedangkan saat miosis (penyempitan pupil), permukaan anterior iris relatif lebih rata.', 'Secara histologis, iris memiliki tiga lapisan yaitu lamina anterior, stroma iris, dan lamina posterior.', 'Koroid\\n\\nKoroid adalah dinding mata yang berfungsi mensuplai oksigen dan nutrisi untuk bagian-bagian mata yang lain, khususnya retina.', 'Bagian mata ini biasanya berwarna hitam atau cokelat kehitaman.', 'Warna gelap ini membuat cahaya tidak dipantulkan kembali.', 'Retina\\n\\nRetina adalah lembaran transparan tipis di bagian belakang bola mata yang sensitif terhadap cahaya.', 'Ia bertanggung jawab terhadap kemampuan manusia dalam melihat.', 'Fungsinya adalah menangkap bayangan benda.', 'Ketika bagian mata ini rusak atau terkena penyakit, manusia tidak bisa melihat dengan optimal.', 'Bahkan penyakit retina yang kronis dapat menyebabkan kebutaan.', 'Makula\\n\\nMakula merupakan bagian yang terdapat di tengah retina yang berwarna kuning cerah.', 'Bagian mata ini sangat berperan dalam penglihatan kita sehingga bisa melihat objek dengan baik.', 'Sklera\\n\\nSklera berasal dari bahasa Yunani yaitu scleros.', 'Artinya “keras.” Ia adalah bagian dinding putih mata.', 'Pembungkus luar bola mata yang opak, kuat tapi elastis, melapisi mata mulai dari kornea sampai saraf optik.', 'Fungsi sklera adalah:\\n\\nMemberikan perlindungan terhadap isi bola mata Membantu mempertahankan bentuk mata Menstabilkan tekanan intraokular Sebagai tempat insersi otot bola mata\\n\\nLensa Mata\\n\\nLensa mata (lensa kristalin) adalah bagian lunak dan transparan yang berada di belakang iris.', 'Lensa mata berfungsi untuk memfokuskan cahaya yang masuk ke mata agar sampai ke makula.', 'Uniknya, lensa mata punya kemampuan yang disebut sebagai daya akomodasi.', 'Ketika lensa mata keruh, pandangan menjadi tidak jelas (kabur).', 'Kekeruhan pada lensa inilah yang dikenal sebagai katarak.', 'Ia tidak bisa dikoreksi dengan kacamata atau lensa kontak sebagaimana kelainan refraksi.', 'Cara yang bisa digunakan adalah dengan mengganti lensa melalui prosedur operasi katarak.', 'Saraf Optik\\n\\nSaraf optik atau disebut juga saraf kranial II berfungsi untuk meneruskan informasi visual benda yang diterima retina menuju ke otak.', 'Saraf optik ini lah yang membuat kita dapat mengetahui bagaimana bentuk suatu benda yang kita lihat.', 'Jika bagian mata ini rusak, maka kita tidak akan bisa melihat.', 'Titik Buta\\n\\nTitik buta adalah bagian mata yang berfungsi untuk meneruskan dan membelokkan berkas saraf menuju otak.', 'Di bagian mata ini, tidak ada sel-sel yang peka terhadap rangsangan cahaya.', 'Dengan demikian, ketika ada bayangan benda yang jatuh ke titik ini, kita tidak akan bisa melihatnya.', 'Badan Siliaris\\n\\nBadan siliaris terbuat dari otot siliaris dan ligamen suspensor.', 'Badan siliaris berfungsi untuk menjaga agar lensa tetap pada tempatnya, mengubah bentuk lensa sehingga cahaya dapat difokuskan pada retina, dan untuk menghasilkan humor akuos (cairan yang menyebabkan mata dapat mempertahankan bentuknya).', 'Badan Vitreus\\n\\nBadan vitreus adalah media optim gelatinosa avaskular dan jernih yang mengisi rongga vitreus.', 'Rongga ini menempati 4/5 total voulme bola mata.', 'Vitreus berfungsi dalam mempertahankan integritas struktural bola mata, memberi nutrisi, serta dalam metabolisme jaringan instaokular karena cairan ini menjadi jalur untuk metabolit yang digunakan oleh lensa, badan siliar, dan retina.', '[]\\n\\nReferensi:\\n\\nAmerican Academy of Ophtalmology.', 'Clinical Optics; 2017-2018 Basic and Clinical Science Course.', 'San Fransisco: American Academy of Ophtalmology; 2018\\n\\nVaugan DG, Asbury T, Eva PR.', 'General Ophthalmology.', '17th edition.', 'Connecticut; Apelton & Lange; 2019\\n\\nUniversitas Indonesia Faculty of Medicine.', 'Buku Ajar Oftalmologi.', 'Jakarta: UI Publishing; 2020DokterSehat.Com- Ada bermacam-macam penyakit mata.', 'Seperti yang kita rasakan, mata adalah organ vital kita untuk melihat dan beraktivitas.', 'Oleh karena itu, jangan sampai gangguan mata menghambat aktivitas Anda!', 'Pada artikel kali ini, DokterSehat akan menjelaskan mengenai gangguan pada mata hingga penyakit gangguan penglihatan.', 'Apa tujuannya?', 'Tentu ini dibutuhkan agar Anda bisa terhindar dan bahkan mengobati penyakit mata yang sudah terlanjur terjadi.', 'Macam-macam gangguan mata\\n\\nAda beragam penyakit mata yang harus Anda ketahui, mulai dari penyebabnya hingga penanganannya.', 'Berikut rincian penyakit mata:\\n\\n1.', 'Ablasio\\n\\nPenyakit ablasio adalah suatu keadaan lepasnya retina sensoris dari epitel pigmen retina (RIDE).', 'Sebagian besar ablasio retina terjadi akibat adanya satu atau lebih robekan-robekan atau lubang-lubang di retina, dikenal sebagai ablasio retina regmatogen (Rhegmatogenous Retinal Detachment) yang menyebabkan gangguan mata.', 'Gejala penyakit mata ablasio yang sering dikeluhkan biasanya benda akan terlihat melayang-layang, adanya kilatan cahaya, penurunan tajam penglihatan dan ada semacam tirai tipis berbentuk parabola yang naik perlahan-lahan dari mulai bagian bawah bola mata dan akhirnya menutup.', '2.', 'Bufthalmus\\n\\nPenyakit ini tergolong penyakit mata dengan tekanan bola mata yang meninggi sejak lahir, akibat tekanan bola mata yang meninggi, ukuran bola mata bayi sangat besar.', 'Keadaan ini mengganggu kornea mata.', 'Penderita takut melihat cahaya, timbul gangguan kelopak mata, kornea membengkak, dan warna kornea menjadi keruh.', 'Segera lakukan upaya untuk mengurangi bendungan cairan bola mata yang membuat tekanan bola mata yang meninggi.', 'Caranya mengatasi gangguan pada mata ini yaitu melalui operasi sayatan (goniotomy) sesegera mungkin agar perkembangan mata dan ketajaman penglihatan anak tidak sampai terganggu.', '3.', 'Blefaritis\\n\\nBlefaritis adalah suatu peradangan pada kelopak mata karena terjadinya produksi minyak yang berlebihan, tidak diketahui persis mengapa produksi minyak bisa menjadi berlebihan.', 'Sayangnya kelebihan minyak ini ada di dekat kelopak mata yang juga sering didatangi bakteri, gejala blefaritis berupa mata merah, nyeri, panas, gatal, berair, ada luka di bagian kelopak mata dan membengkak.', 'Pada beberapa kasus sampai terjadi kerontokan bulu mata.', 'Ada dua jenis blefaritis yaitu blefaritis anterior dan blefaritis posterior, yang pertama merupakan peradangan di kelopak mata bagian luar depan yaitu di tempat melekatnya bulu mata.', 'Penyebabnya adalah bakteri stafilokokus.', 'Yang kedua adalah peradangan di kelopak mata bagian dalam, yaitu bagian kelopak mata yang bersentuhan dengan mata.', 'Penyebabnya adalah kelainan pada kelenjar minyak.', '4.', 'Dakriosistitis\\n\\nPenyebab dakriosistitis adalah penyumbatan yang terjadi pada duktus nasolakrimalis yaitu saluran yang mengalirkan air mata ke hidung, faktor alergilah yang menyebabkan terjadinya sumbatan pada saluran tersebut.', 'Akibatnya dari gangguan mata dakriosistitis adalah infeksi di sekitar kantung air mata yang menimbulkan nyeri, warna merah dan bengkak, bahkan bisa sampai mengeluarkan nanah dan penderita mengalami demam.', 'Infeksi yang ringan biasanya akan cepat sembuh walau tetap ada pembengkakan, sementara yang tergolong parah dapat menyebabkan kemerahan dan penebalan di atas kantung air mata.', 'Jika terus berlanjut akan terbentuk kantung nanah.', '5.', 'Endoftalmitis\\n\\nEndoflatmitis merupakan gangguan padas mata yang berupa infeksi di lapisan bagian dalam mata, sehingga bola mata bernanah.', 'Gejalanya berupa mata merah, nyeri, bahkan sampai mengalami gangguan penglihatan.', 'Penyakit gangguan penglihatan yang satu ini biasanya terjadi karena mata anak tertusuk sesuatu seperti lidi atau benda tajam lainnya.', 'Infeksi ini cukup berat, sehingga harus segera ditangani karena bisa menimbulkan kebutaan.', '6.', 'Glaukoma\\n\\nGlaukoma ditandai dengan pandangan yang mulai kabur dan berkurangnya pandangan ke samping (lebar penglihatan berkurang).', 'Sebelum terjadi kerusakan pada retina dan saraf mata, maka masih ada kesempatan untuk kembali membaik.', 'Jika tidak ditangani dengan baik, gangguan pada mata ini dapat menyebabkan kebutaan.', 'Hal ini disebabkan karena saluran cairan yang keluar dari bola mata terhambat sehingga bola mata akan membesar dan bola mata akan menekan saraf mata yang berada di belakang bola mata yang akhirnya saraf mata tidak mendapatkan aliran darah sehingga saraf mata akan mati.', '7.', 'Gonoblenorrhoe\\n\\nGangguan mata yang satu ini adalah salah satu penyakit mata yang terjadi pada bayi yang baru lahir karena ibunya menderita gonorrhoe.', 'Gonorrhoe juga dapat menyerang orang dewasa secara aut infeksi melalui tangan atau handuk.', 'Gejalanya gonoblenorrhoe adalah mata bayi bengkak, bernanah, dan tidak dapat membuka.', 'Jika tak langsung ditangani, dalam waktu 3 minggu bola mata akan pecah dan menyebabkan buta permanen.', '8.', 'Gangguan lensa mata\\n\\nPenyakit gangguan penglihatan lainnya adalah gangguan lensa mata.', 'Penyakit yang menyerang gangguan penglihatan ini ada beragam jenis, di antaranya:\\n\\nMiopi (tidak dapat melihat dengan jelas objek yang berada jauh),\\n\\nHiperopi (tidak dapat melihat dengan jelas objek yang berada dalam jarak dekat),\\n\\nPresbiopi (kelainan fisik pada lensa mata yang menyebabkan kesulitan melihat dalam jarak dekat),\\n\\nAstigmatisma (penglihatan kabur baik dalam jarak jauh maupun dalam jarak dekat),\\n\\nAmblyopia (pusat penglihatan pada salah satu mata tidak berkembang baik),\\n\\nStrabismus (mata juling),\\n\\nSilindris (fokus benda yang dilihat terpecah menjadi dua bayangan)\\n\\n9.', 'Iridosiklitis\\n\\nPenyebab iridosiklitis berasal dari gigi yang berlubang.', 'Pada awalnya, penyakit gangguan penglihatan ini ditandai dengan mata merah, namun tanpa kotoran.', 'Oleh karena itu, banyak yang menyepelekan gangguan mata ini.', 'Selanjutnya, disertai juga dengan nyeri dan penglihatan agak terganggu karena ada bintik-bintik hitam yang beterbangan.', 'Banyak yang menganggap penyakit ini biasa dan hanya diobati dengan obat-obat yang dijual bebas.', '10.', 'Infeksi mata\\n\\nInfeksi mata banyak jenisnya, paling sering infeksi pada selaput lendir putih mata dan kelopak mata (conjunctivitis) atau dikenal sebagai penyakit mata merah.', 'Ada juga yang disebut Belekan, yaitu disebabkan oleh infeksi virus, terkadang disertai infeksi bakteri.', 'Penyakit mata ini membuat mata menjadi merah, bengkak, dan nyeri serta memproduksi kotoran mata menjadi banyak.', 'Gejala belekan biasanya membuat bulu mata saling menempel dan sulit dibuka pada waktu bangun tidur karena terlalu banyak kotoran yang lengket di bulu mata.', 'Gangguan mata yang satu ini biasa menyerang anak-anak dan sangat menular, penyakit infeksi lainnya yaitu Bintitan yang disebabkan karena adanya infeksi bakteri pada kelenjar di dasar bulu mata dan termasuk penyakit mata ringan.', 'Umumnya akan menghilang dengan sendirinya dalam waktu satu minggu setelah nanah keluar.', '11.', 'Katarak\\n\\nKatarak adalah sejenis kerusakan mata atau gangguan mata yang menyebabkan lensa mata berselaput dan rabun, lensa mata menjadi keruh dan cahaya tidak dapat menembusinya, bervariasi sesuai tingkatannya dari sedikit sampai keburaman total dan menghalangi jalan cahaya.', 'Penderita gangguan mata katarak akan mengalami pengelihatan yang buram, ketajaman pengelihatan berkurang, sensitivitas kontras juga hilang.', 'Ini menyebabkan kontur, warna bayangan, dan visi kurang jelas karena cahaya tersebar oleh katarak ke mata.', 'Tes sensitivitas kontras harus dilakukan dan jika kekurangan sensitivitas kontras terlihat makan dianjurkan untuk konsultasi dengan spesialis mata untuk memeriksakan gangguan mata yang tengah dialami.', 'Itu dia penjelasan lengkap mengenai gangguan mata, penyakit mata, dan masing-masing penyebabnya.', 'Semoga bermanfaat!']\n"
          ]
        }
      ],
      "source": [
        "print(sentence_list)"
      ]
    },
    {
      "cell_type": "code",
      "execution_count": null,
      "metadata": {
        "id": "zrtJCMceJmNP"
      },
      "outputs": [],
      "source": [
        "# A function to return a random greeting response to a user greeting\n",
        "def greeting_response(text):\n",
        "  text = text.lower()\n",
        "  #bot greeting response\n",
        "  bot_greetings = ['halo', 'hai', 'apa kabar', 'hola','hi' ]\n",
        "\n",
        "  #users greeting response\n",
        "  user_greetings = ['halo', 'hai', 'apa kabar', 'hola', 'yo wassap','hi', 'oy', 'yow', 'uy', 'helo']\n",
        "\n",
        "  for word in text.split():\n",
        "    if word in user_greetings:\n",
        "      return random.choice(bot_greetings)"
      ]
    },
    {
      "cell_type": "code",
      "execution_count": null,
      "metadata": {
        "id": "9VuC-jefNL4L"
      },
      "outputs": [],
      "source": [
        "def index_sort(list_var):\n",
        "  length = len(list_var)\n",
        "  list_index = list(range(0, length))\n",
        "\n",
        "  x = list_var\n",
        "  for i in range(length):\n",
        "    for j in range(length):\n",
        "      if x[list_index[i]] > x[list_index[j]]:\n",
        "           #swap\n",
        "           temp = list_index[i]\n",
        "           list_index[i] = list_index[j]\n",
        "           list_index[j] = temp\n",
        "\n",
        "  return list_index\n"
      ]
    },
    {
      "cell_type": "code",
      "execution_count": null,
      "metadata": {
        "id": "2eL57V_JL6J3"
      },
      "outputs": [],
      "source": [
        "#Create bot response\n",
        "def bot_response(user_input):\n",
        "  user_input = user_input.lower()\n",
        "  sentence_list.append(user_input)\n",
        "  bot_response=''\n",
        "  cm = CountVectorizer().fit_transform(sentence_list)\n",
        "  similarity_scores = cosine_similarity(cm[-1], cm)\n",
        "  similarity_scores_list = similarity_scores.flatten()\n",
        "  index = index_sort(similarity_scores_list)\n",
        "  index = index[1:]\n",
        "  response_flag = 0\n",
        "\n",
        "  j = 0\n",
        "  for i in range(len(index)):\n",
        "    if similarity_scores_list[index[i]] > 0.0:\n",
        "      bot_response = bot_response+''+sentence_list[index[i]]\n",
        "      response_flag = 1\n",
        "      j = j+1\n",
        "\n",
        "    if j > 2:\n",
        "      break\n",
        "      \n",
        "    if response_flag ==0:\n",
        "      bot_response = bot_response+''+\"aku tidak mengerti\"\n",
        "    sentence_list.remove(user_input)\n",
        "    return bot_response"
      ]
    },
    {
      "cell_type": "code",
      "source": [
        "  exit_list = ['babai', 'sampai jumpa', 'bai']\n",
        "  print('Boti: halo aku boti akan membantumu mengenali bagian-bagian pada mata')\n",
        "\n",
        "  while(True):\n",
        "    user_input = (input('Users  :'))\n",
        "    if user_input.lower() in exit_list:\n",
        "      print('Boti : Sampai jumpa lagi !')\n",
        "      break\n",
        "    else:\n",
        "      if greeting_response(user_input) !=None:\n",
        "        print('Boti : '+greeting_response(user_input))\n",
        "      else:\n",
        "        print('Boti : '+bot_response(user_input))\n",
        "        tts = gTTS(bot_response(user_input), lang='id')\n",
        "        tts.save('mantap.wav')\n",
        "        time.sleep(0.08)\n",
        "        print(\"Kamu:\\n\")\n",
        "        ipd.display(ipd.Audio('mantap.wav', autoplay=True))\n",
        "        print(\"=\"*60 + \"\\n\")\n",
        "        "
      ],
      "metadata": {
        "colab": {
          "base_uri": "https://localhost:8080/"
        },
        "id": "HkMsYfijMRX_",
        "outputId": "82aef28c-4c63-4171-da40-3cbf801fe86d"
      },
      "execution_count": null,
      "outputs": [
        {
          "output_type": "stream",
          "name": "stdout",
          "text": [
            "Boti: halo aku boti akan membantumu mengenali bagian-bagian pada mata\n",
            "Users  :halo\n",
            "Boti : hi\n",
            "Users  :hi\n",
            "Boti : apa kabar\n",
            "Users  :bai\n",
            "Boti : Sampai jumpa lagi !\n"
          ]
        }
      ]
    }
  ],
  "metadata": {
    "colab": {
      "provenance": [],
      "include_colab_link": true
    },
    "kernelspec": {
      "display_name": "Python 3",
      "name": "python3"
    },
    "language_info": {
      "name": "python"
    }
  },
  "nbformat": 4,
  "nbformat_minor": 0
}